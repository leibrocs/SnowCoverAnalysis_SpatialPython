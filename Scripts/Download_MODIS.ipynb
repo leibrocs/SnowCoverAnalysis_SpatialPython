{
 "cells": [
  {
   "cell_type": "markdown",
   "id": "a36614e0",
   "metadata": {},
   "source": [
    "### Script to automate the Process of downloading MODIS Terra and Aqua files from the NSIDC\n",
    "\n",
    "For the analysis of the snow cover and the snow cover duration for a ten year period, 7304 MODIS Aqua and Terra daily snow cover files needed to be downloaded from the National Snow and Ice Data Center. In our case, the study period was set from the first of September 2012 to the 31st of August 2022 and the study region was Central Asia, or more specifically the extent of the MODIS tile h23v04."
   ]
  },
  {
   "cell_type": "code",
   "execution_count": null,
   "id": "d06a90e3",
   "metadata": {},
   "outputs": [],
   "source": [
    "%pip install modis_tools"
   ]
  },
  {
   "cell_type": "code",
   "execution_count": null,
   "id": "5640818b",
   "metadata": {},
   "outputs": [],
   "source": [
    "# load the needed modules\n",
    "import geopandas as gp\n",
    "import os\n",
    "\n",
    "from modis_tools.auth import ModisSession\n",
    "from modis_tools.resources import CollectionApi, GranuleApi\n",
    "from modis_tools.granule_handler import GranuleHandler"
   ]
  },
  {
   "cell_type": "markdown",
   "id": "79c787a6",
   "metadata": {},
   "source": [
    "#### Download MODIS Tiles \n",
    "\n",
    "Downloading MODIS tiles is a multi-step process involving data discovery, authentification, and downloading. Here, we used the 'modis_tools' package to interact with the NASA National Snow and Ice Data Center to search for MODIS data and then download it.\n",
    "\n",
    "Before running the script, two folders to store the Terra and Aqua files separately should be created."
   ]
  },
  {
   "cell_type": "code",
   "execution_count": null,
   "id": "02d3a0cb",
   "metadata": {},
   "outputs": [],
   "source": [
    "# define the needed folders and variables\n",
    "\n",
    "# folders:\n",
    "MODIS_file_folder = 'path/to/your/MODIS/file/folder/'\n",
    "\n",
    "# variables:\n",
    "username = 'your_NSIDC_username'\n",
    "password = 'your_NSIDC_password'\n",
    "\n",
    "aoi = 'path/to/your/h23v04.geojson'"
   ]
  },
  {
   "cell_type": "code",
   "execution_count": null,
   "id": "7bcbc180",
   "metadata": {},
   "outputs": [],
   "source": [
    "# authenticate a session\n",
    "session = ModisSession(username = username, password = password)"
   ]
  },
  {
   "cell_type": "code",
   "execution_count": null,
   "id": "e1af8ced",
   "metadata": {},
   "outputs": [],
   "source": [
    "# query the MODIS catalog for collection terra (for aqua change short name to 'MYD10A1')\n",
    "collection_client = CollectionApi(session = session)\n",
    "MODIS_Tcollection = collection_client.query(short_name = \"MOD10A1\", version = \"61\")"
   ]
  },
  {
   "cell_type": "code",
   "execution_count": null,
   "id": "73528cb5",
   "metadata": {},
   "outputs": [],
   "source": [
    "# display collection details\n",
    "MODIS_collection"
   ]
  },
  {
   "cell_type": "code",
   "execution_count": null,
   "id": "fe8a8f76",
   "metadata": {},
   "outputs": [],
   "source": [
    "# query the selected collection for granules\n",
    "granule_client_Terra = GranuleApi.from_collection(MODIS_collection[0], session = session)"
   ]
  },
  {
   "cell_type": "code",
   "execution_count": null,
   "id": "c7188a60",
   "metadata": {},
   "outputs": [],
   "source": [
    "# read in the coordinates of the aoi as dataframe\n",
    "df = gpd.read_file(aoi)\n",
    "geom = df.geometry[0]\n",
    "\n",
    "# query for a define period and your aoi\n",
    "granules = granule_client_Terra.query(start_date = 'your_start_date', end_date = 'your_end_date', spatial = geom)"
   ]
  },
  {
   "cell_type": "code",
   "execution_count": null,
   "id": "a24d595c",
   "metadata": {},
   "outputs": [],
   "source": [
    "# download the granules\n",
    "GranuleHandler.download_from_granules(granules, session, path = MODIS_file_folder)"
   ]
  }
 ],
 "metadata": {
  "kernelspec": {
   "display_name": "Python 3 (ipykernel)",
   "language": "python",
   "name": "python3"
  },
  "language_info": {
   "codemirror_mode": {
    "name": "ipython",
    "version": 3
   },
   "file_extension": ".py",
   "mimetype": "text/x-python",
   "name": "python",
   "nbconvert_exporter": "python",
   "pygments_lexer": "ipython3",
   "version": "3.10.9"
  }
 },
 "nbformat": 4,
 "nbformat_minor": 5
}
