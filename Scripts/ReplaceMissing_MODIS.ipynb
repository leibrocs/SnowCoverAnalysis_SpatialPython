{
 "cells": [
  {
   "cell_type": "code",
   "execution_count": null,
   "id": "77f4daab",
   "metadata": {},
   "outputs": [],
   "source": [
    "# Script to search for missing files in the MODIS Terra file folder and replace them with the respective MODIS Aqua file\n",
    "# if there is neither a terra nor an aqua file, a new file only containing zeros is created"
   ]
  },
  {
   "cell_type": "code",
   "execution_count": null,
   "id": "60ba6f94",
   "metadata": {},
   "outputs": [],
   "source": [
    "# Before running this script: \n",
    "# 1. Use the script Download_MODIS.ipynb to download the needed MODIS Snow Cover Terra and Aqua data"
   ]
  },
  {
   "cell_type": "code",
   "execution_count": null,
   "id": "b649feba",
   "metadata": {},
   "outputs": [],
   "source": [
    "# import the needed modules\n",
    "import os\n",
    "import shutil\n",
    "import xarray\n",
    "import h5py\n",
    "import glob\n",
    "import sys\n",
    "import rasterio\n",
    "from osgeo import gdal\n",
    "import numpy as np\n",
    "import matplotlib.pyplot as plt\n",
    "import matplotlib.cm as cm\n",
    "import pandas as pd"
   ]
  },
  {
   "cell_type": "code",
   "execution_count": null,
   "id": "f06619ca",
   "metadata": {},
   "outputs": [],
   "source": [
    "# define folders\n",
    "\n",
    "# folders (terra folder name: MOD10A1, aqua folder name: MYD10A1)\n",
    "MODIS_terra_file_folder = 'path/to/you/MODIS/Terra/folder/'\n",
    "MODIS_aqua_file_folder = 'path/to/your/MODIS/Aqua/folder/'\n",
    "\n",
    "# variables\n",
    "year_min = 2012\n",
    "year_max = 2022"
   ]
  },
  {
   "cell_type": "code",
   "execution_count": null,
   "id": "b3d2621d",
   "metadata": {},
   "outputs": [],
   "source": [
    "# functions:\n",
    "\n",
    "# read a MODIS .hdf snow file:\n",
    "def read_MODIS_snow(file):\n",
    "    hdf_ds = gdal.Open(file, gdal.GA_ReadOnly)\n",
    "    band_ds = gdal.Open(hdf_ds.GetSubDatasets()[0][0], gdal.GA_ReadOnly) # 'Snow_Cover_Daily_Tile' v5, 'NDSI_Snow_Cover' v6\n",
    "    data = band_ds.ReadAsArray()\n",
    "    temp = np.copy(data)\n",
    "    data = np.full(temp.shape, 0, dtype=np.uint8) # Missing Data (cloud, polar night etc.)\n",
    "    data = np.where(temp < NDSI_threshold_not_so_certain_snow, 32, data) # Snow Free (NDSI < 0.1)\n",
    "    data = np.where((temp >= NDSI_threshold_not_so_certain_snow) & (temp < NDSI_threshold_quite_certain_snow), 64, data) # Snow not so certain  (NDSI >= 0.1 & NDSI < 0.4)\n",
    "    data = np.where((temp >= NDSI_threshold_quite_certain_snow) & (temp <= 100), 128, data) # Snow (NDSI >= 0.4)\n",
    "    data = np.where(temp == 237, 16, data) # Inland Water\n",
    "    data = np.where(temp == 239, 8, data) # Ocean\n",
    "    snow_qa_ds = gdal.Open(hdf_ds.GetSubDatasets()[2][0], gdal.GA_ReadOnly) # \"NDSI_Snow_Cover_Algorithm_Flags_QA\"\n",
    "    snow_qa = snow_qa_ds.ReadAsArray()\n",
    "    snow_qa = snow_qa[:,:,np.newaxis]\n",
    "    snow_qa_bits = np.unpackbits(snow_qa, axis=-1, bitorder='little') # Bit 0: Inland water\n",
    "    data = np.where((data > 16) & (snow_qa_bits[:,:,0]==1), 16, data) #Pixels are re-assigned to water\n",
    "    return data\n",
    "\n",
    "# get the right MODIS file name (especially for leap years)\n",
    "def with_leading_zeros(n):\n",
    "    if n < 10:\n",
    "        return \"00\" + str(n)\n",
    "    elif n < 100:\n",
    "        return \"0\" + str(n)\n",
    "    else:\n",
    "        return str(n)"
   ]
  },
  {
   "cell_type": "code",
   "execution_count": null,
   "id": "048dc696",
   "metadata": {},
   "outputs": [],
   "source": [
    "# create two lists (MODIS terra and aqua) and fill them with the respective file names\n",
    "\n",
    "# create two empty lists\n",
    "terra_files, aqua_files = [], [] \n",
    "\n",
    "for filename in os.listdir(MODIS_terra_file_folder)+os.listdir(MODIS_aqua_file_folder):\n",
    "            #add_log_entry(log_file,'File found %s'%filename)\n",
    "            version = filename.split('.')[3]\n",
    "            if version=='006' or version=='061':\n",
    "                if filename.startswith('MOD10A1.') & filename.endswith('hdf'):\n",
    "                    terra_file = os.path.join(MODIS_terra_file_folder, filename)\n",
    "                    #add_log_entry(log_file,'Terra File found %s'%terra_file)\n",
    "                    terra_files.append(terra_file)\n",
    "                if filename.startswith('MYD10A1.') & filename.endswith('hdf'):\n",
    "                    aqua_file = os.path.join(MODIS_aqua_file_folder, filename)\n",
    "                    #add_log_entry(log_file,'Aqua File found %s'%aqua_file)\n",
    "                    aqua_files.append(aqua_file)"
   ]
  },
  {
   "cell_type": "code",
   "execution_count": null,
   "id": "36acb451",
   "metadata": {},
   "outputs": [],
   "source": [
    "# replace missing MODIS terra files\n",
    "\n",
    "# list files in the MODIS terra and aqua folder\n",
    "files_terra = os.listdir(MODIS_terra_file_folder)\n",
    "files_aqua = os.listdir(MODIS_aqua_file_folder)\n",
    "\n",
    "# function to search for missing files in the terra folder and replace them with the corresponding aqua file\n",
    "# if there is no terra and no aqua file a file only containing multiple 0´s is created\n",
    "for y in range(year_max - year_min + 1):\n",
    "    files_for_month = []\n",
    "    \n",
    "    is_leap_year = ((y + year_min) % 4 == 0) and ((y + year_min) % 100 != 0)\n",
    "    \n",
    "    for d in range(1, 365 + 1 if not is_leap_year else 366 + 1):\n",
    "        is_terra = len(glob.glob(os.path.join(\n",
    "            MODIS_terra_file_folder,\n",
    "            \"MOD10A1.A\" + str(year_min + y) + with_leading_zeros(d) + \"*\"\n",
    "        ))) > 0\n",
    "        \n",
    "        if not is_terra:\n",
    "            possible_path = glob.glob(os.path.join(\n",
    "                MODIS_aqua_file_folder,\n",
    "                \"MYD10A1.A\" + str(year_min + y) + with_leading_zeros(d) + \"*\"\n",
    "            ))\n",
    "            \n",
    "            is_aqua = len(possible_path) > 0\n",
    "               \n",
    "            if is_aqua:\n",
    "                terra_file = possible_path[0].replace(\"MYD\", \"MOD\")\n",
    "                p = shutil.copy(possible_path[0], os.path.join(\n",
    "                    MODIS_terra_file_folder,\n",
    "                    \"M0D10A1.A\" + str(year_min + y) + with_leading_zeros(d) + \".h23v04.061.0000000000000.hdf\")\n",
    "                )\n",
    "                print(p)\n",
    "            else:\n",
    "                terra_file = \"M0D10A1.A\" + str(year_min + y) + with_leading_zeros(d) + \".h23v04.061.0000000000000.hdf\"\n",
    "                data = np.full([2400,2400], 0, dtype=np.uint8)\n",
    "                \n",
    "                with h5py.File(os.path.join(MODIS_terra_file_folder, terra_file), \"w\") as file:\n",
    "                    file.create_dataset(\"data\", data=data)"
   ]
  }
 ],
 "metadata": {
  "kernelspec": {
   "display_name": "Python 3 (ipykernel)",
   "language": "python",
   "name": "python3"
  },
  "language_info": {
   "codemirror_mode": {
    "name": "ipython",
    "version": 3
   },
   "file_extension": ".py",
   "mimetype": "text/x-python",
   "name": "python",
   "nbconvert_exporter": "python",
   "pygments_lexer": "ipython3",
   "version": "3.10.9"
  }
 },
 "nbformat": 4,
 "nbformat_minor": 5
}
